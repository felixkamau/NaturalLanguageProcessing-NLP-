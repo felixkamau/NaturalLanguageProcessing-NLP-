{
 "cells": [
  {
   "cell_type": "code",
   "execution_count": 1,
   "metadata": {},
   "outputs": [],
   "source": [
    "import nltk"
   ]
  },
  {
   "cell_type": "code",
   "execution_count": 2,
   "metadata": {},
   "outputs": [],
   "source": [
    "# Define some corpse basicaly a corpers  is text/paragraph/sentence\n",
    "paragraph = \"\"\"\n",
    "The old mansion, cloaked in an ever-present mist at the edge of town, was a haunting relic of a bygone era. \n",
    "Once the epitome of opulence and grandeur, it now lay in a state of desolate decay, its former glory all but forgotten. \n",
    "The windows, once sparkling and clear, were shattered and dark, allowing only glimpses of the shadowy interior. The doors, \n",
    "once grand and imposing, now hung ajar, creaking ominously with the slightest breeze. The gardens, once a symbol of meticulous \n",
    "care and beauty, had transformed into a wild, untamed jungle of thorns, ivy, and overgrown hedges. Inside, the air was heavy with \n",
    "the scent of mold and rot, each step on the creaky floorboards echoing with the whispers of long-forgotten secrets and sorrows. \n",
    "The grand hallways, now draped in cobwebs, held the eerie silence of a place abandoned by time. The townspeople, ever wary, spoke in \n",
    "hushed tones of ghosts and curses, of hidden treasures and the tragedies that befell those who dared to cross its threshold. Despite \n",
    "the fear it invoked, the mansion's allure was undeniable. It stood as a tantalizing mystery, an enigmatic puzzle waiting for the curious, \n",
    "the brave, or perhaps the foolhardy, to unlock its secrets. The mansion, a silent sentinel of history, beckoned with the promise of \n",
    "adventure, danger, and the unknown, its stories etched into every crack and crevice, waiting patiently to be told.\n",
    "\"\"\""
   ]
  },
  {
   "cell_type": "code",
   "execution_count": 4,
   "metadata": {},
   "outputs": [],
   "source": [
    "# cleaning text/lowering\n",
    "\n",
    "import re\n",
    "from nltk.stem.porter import PorterStemmer\n",
    "from nltk.stem import WordNetLemmatizer\n",
    "from nltk.corpus import stopwords"
   ]
  },
  {
   "cell_type": "code",
   "execution_count": 7,
   "metadata": {},
   "outputs": [],
   "source": [
    "stemmer = PorterStemmer()\n",
    "wordnet = WordNetLemmatizer()\n",
    "sentences = nltk.sent_tokenize(paragraph)\n",
    "corpus = []\n",
    "\n",
    "for i in range(len(sentences)):\n",
    "    review = re.sub('[^a-zA-Z]',' ', sentences[i])\n",
    "    review = review.lower()\n",
    "    review = review.split()\n",
    "    review = [wordnet.lemmatize(word) for word in review if not word in set(stopwords.words('english'))]\n",
    "    review = ' '.join(review)\n",
    "    corpus.append(review)"
   ]
  },
  {
   "cell_type": "code",
   "execution_count": 8,
   "metadata": {},
   "outputs": [],
   "source": [
    "# Create a bag of words model\n",
    "from sklearn.feature_extraction.text import CountVectorizer\n",
    "cv = CountVectorizer()\n",
    "X = cv.fit_transform(corpus).toarray()"
   ]
  },
  {
   "cell_type": "code",
   "execution_count": null,
   "metadata": {},
   "outputs": [],
   "source": []
  }
 ],
 "metadata": {
  "kernelspec": {
   "display_name": "venv",
   "language": "python",
   "name": "python3"
  },
  "language_info": {
   "codemirror_mode": {
    "name": "ipython",
    "version": 3
   },
   "file_extension": ".py",
   "mimetype": "text/x-python",
   "name": "python",
   "nbconvert_exporter": "python",
   "pygments_lexer": "ipython3",
   "version": "3.10.12"
  }
 },
 "nbformat": 4,
 "nbformat_minor": 2
}
