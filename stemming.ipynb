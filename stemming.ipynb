{
 "cells": [
  {
   "cell_type": "markdown",
   "metadata": {},
   "source": [
    "# What is stemming:\n"
   ]
  },
  {
   "cell_type": "markdown",
   "metadata": {},
   "source": [
    "Stemming is a natural language processing (NLP) technique used to reduce words to their base or root form, removing prefixes or suffixes. This process is essential in text preprocessing, as it simplifies word variations to a common base form, reducing redundancy and enhancing computational efficiency.\n",
    "\n",
    "The goal of stemming is to streamline and standardize words, making it easier for NLP tasks such as information retrieval, text mining, and machine learning. Stemming algorithms can be used to reduce inflected forms of words to their base form, making it possible to group related words together and improve the accuracy of search results.\n",
    "\n",
    "There are different types of stemming algorithms, including the Porter stemmer, which was developed by Martin Porter and is widely used in NLP applications. The Porter stemmer is a popular choice due to its ability to handle words with complex inflections and its high accuracy.\n",
    "\n"
   ]
  },
  {
   "cell_type": "code",
   "execution_count": 2,
   "metadata": {},
   "outputs": [],
   "source": [
    "import nltk\n",
    "from nltk.stem import PorterStemmer\n",
    "from nltk.corpus import stopwords"
   ]
  },
  {
   "cell_type": "markdown",
   "metadata": {},
   "source": [
    "Stopwords: Are words repeated word in you corpus and dont add value, so stop words helps remove those words."
   ]
  },
  {
   "cell_type": "code",
   "execution_count": 3,
   "metadata": {},
   "outputs": [],
   "source": [
    "# Define some corpse basicaly a corpers  is text/paragraph/sentence\n",
    "paragraph = \"\"\"\n",
    "The old mansion, cloaked in an ever-present mist at the edge of town, was a haunting relic of a bygone era. \n",
    "Once the epitome of opulence and grandeur, it now lay in a state of desolate decay, its former glory all but forgotten. \n",
    "The windows, once sparkling and clear, were shattered and dark, allowing only glimpses of the shadowy interior. The doors, \n",
    "once grand and imposing, now hung ajar, creaking ominously with the slightest breeze. The gardens, once a symbol of meticulous \n",
    "care and beauty, had transformed into a wild, untamed jungle of thorns, ivy, and overgrown hedges. Inside, the air was heavy with \n",
    "the scent of mold and rot, each step on the creaky floorboards echoing with the whispers of long-forgotten secrets and sorrows. \n",
    "The grand hallways, now draped in cobwebs, held the eerie silence of a place abandoned by time. The townspeople, ever wary, spoke in \n",
    "hushed tones of ghosts and curses, of hidden treasures and the tragedies that befell those who dared to cross its threshold. Despite \n",
    "the fear it invoked, the mansion's allure was undeniable. It stood as a tantalizing mystery, an enigmatic puzzle waiting for the curious, \n",
    "the brave, or perhaps the foolhardy, to unlock its secrets. The mansion, a silent sentinel of history, beckoned with the promise of \n",
    "adventure, danger, and the unknown, its stories etched into every crack and crevice, waiting patiently to be told.\n",
    "\"\"\""
   ]
  },
  {
   "cell_type": "code",
   "execution_count": 4,
   "metadata": {},
   "outputs": [],
   "source": [
    "sentences = nltk.sent_tokenize(paragraph)\n",
    "stemmer = PorterStemmer()\n",
    "\n",
    "# Look at stopwords\n",
    "stop_words = stopwords.words('english')"
   ]
  },
  {
   "cell_type": "code",
   "execution_count": 5,
   "metadata": {},
   "outputs": [],
   "source": [
    "# Stemming\n",
    "for i in range(len(sentences)):\n",
    "    words = nltk.word_tokenize(sentences[i])\n",
    "    # List comprehesion to stem words and check, if it's in stem words in english\n",
    "    words = [stemmer.stem(word) for word in words if word not in set(stopwords.words('english'))]\n",
    "    # If the word in words is in stopwords stemming will not be\n",
    "    # appliied but if it's not stemming will be applied, the we join them to sentence\n",
    "    sentences[i] = ' '.join(words)"
   ]
  },
  {
   "cell_type": "code",
   "execution_count": 6,
   "metadata": {},
   "outputs": [
    {
     "data": {
      "text/plain": [
       "['the old mansion , cloak ever-pres mist edg town , haunt relic bygon era .',\n",
       " 'onc epitom opul grandeur , lay state desol decay , former glori forgotten .',\n",
       " 'the window , sparkl clear , shatter dark , allow glimps shadowi interior .',\n",
       " 'the door , grand impos , hung ajar , creak omin slightest breez .',\n",
       " 'the garden , symbol meticul care beauti , transform wild , untam jungl thorn , ivi , overgrown hedg .',\n",
       " 'insid , air heavi scent mold rot , step creaki floorboard echo whisper long-forgotten secret sorrow .',\n",
       " 'the grand hallway , drape cobweb , held eeri silenc place abandon time .',\n",
       " 'the townspeopl , ever wari , spoke hush tone ghost curs , hidden treasur tragedi befel dare cross threshold .',\n",
       " \"despit fear invok , mansion 's allur undeni .\",\n",
       " 'it stood tantal mysteri , enigmat puzzl wait curiou , brave , perhap foolhardi , unlock secret .',\n",
       " 'the mansion , silent sentinel histori , beckon promis adventur , danger , unknown , stori etch everi crack crevic , wait patient told .']"
      ]
     },
     "execution_count": 6,
     "metadata": {},
     "output_type": "execute_result"
    }
   ],
   "source": [
    "sentences"
   ]
  },
  {
   "cell_type": "code",
   "execution_count": 7,
   "metadata": {},
   "outputs": [
    {
     "data": {
      "text/plain": [
       "['the',\n",
       " 'mansion',\n",
       " ',',\n",
       " 'silent',\n",
       " 'sentinel',\n",
       " 'histori',\n",
       " ',',\n",
       " 'beckon',\n",
       " 'promis',\n",
       " 'adventur',\n",
       " ',',\n",
       " 'danger',\n",
       " ',',\n",
       " 'unknown',\n",
       " ',',\n",
       " 'stori',\n",
       " 'etch',\n",
       " 'everi',\n",
       " 'crack',\n",
       " 'crevic',\n",
       " ',',\n",
       " 'wait',\n",
       " 'patient',\n",
       " 'told',\n",
       " '.']"
      ]
     },
     "execution_count": 7,
     "metadata": {},
     "output_type": "execute_result"
    }
   ],
   "source": [
    "words"
   ]
  },
  {
   "cell_type": "markdown",
   "metadata": {},
   "source": [
    "Produced intermediate word representation after stemming may not have any meaning:\n",
    "Example: mansion ---->  man, cloaked ---> cloake so it has no meaning."
   ]
  },
  {
   "cell_type": "code",
   "execution_count": null,
   "metadata": {},
   "outputs": [],
   "source": []
  }
 ],
 "metadata": {
  "kernelspec": {
   "display_name": "venv",
   "language": "python",
   "name": "python3"
  },
  "language_info": {
   "codemirror_mode": {
    "name": "ipython",
    "version": 3
   },
   "file_extension": ".py",
   "mimetype": "text/x-python",
   "name": "python",
   "nbconvert_exporter": "python",
   "pygments_lexer": "ipython3",
   "version": "3.10.12"
  }
 },
 "nbformat": 4,
 "nbformat_minor": 2
}
