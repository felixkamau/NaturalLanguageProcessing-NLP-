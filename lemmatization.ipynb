{
 "cells": [
  {
   "cell_type": "markdown",
   "metadata": {},
   "source": [
    "- Lemmatization:\n",
    "\n",
    "Lemmatization is a fundamental text pre-processing technique used in natural language processing (NLP) and machine learning. It is a linguistic process that involves reducing words to their base or root form, known as the lemma. This is done by analyzing the grammatical category of a word (noun, verb, adjective, etc.) and providing the base form accordingly.\n",
    "\n",
    "In lemmatization, unlike stemming, the resulting base word is referred to as a “lemma.” The main difference between lemmatization and stemming is that lemmatization takes into account the grammatical category of a word, whereas stemming applies simpler rules to remove prefixes and suffixes without considering the word’s grammatical category.\n",
    "\n",
    "For example, the lemma of “running” as a verb is “run,” while as a noun, it remains “running.” Lemmatization is crucial in NLP for tasks such as text analysis, sentiment analysis, and information retrieval. It helps in standardizing words, reducing dimensionality, and improving the accuracy of language processing models."
   ]
  },
  {
   "cell_type": "code",
   "execution_count": 8,
   "metadata": {},
   "outputs": [],
   "source": [
    "import nltk\n",
    "from nltk.stem import WordNetLemmatizer\n",
    "from nltk.corpus import stopwords"
   ]
  },
  {
   "cell_type": "code",
   "execution_count": 9,
   "metadata": {},
   "outputs": [],
   "source": [
    "# Define some corpse basicaly a corpers  is text/paragraph/sentence\n",
    "paragraph = \"\"\"\n",
    "The old mansion, cloaked in an ever-present mist at the edge of town, was a haunting relic of a bygone era. \n",
    "Once the epitome of opulence and grandeur, it now lay in a state of desolate decay, its former glory all but forgotten. \n",
    "The windows, once sparkling and clear, were shattered and dark, allowing only glimpses of the shadowy interior. The doors, \n",
    "once grand and imposing, now hung ajar, creaking ominously with the slightest breeze. The gardens, once a symbol of meticulous \n",
    "care and beauty, had transformed into a wild, untamed jungle of thorns, ivy, and overgrown hedges. Inside, the air was heavy with \n",
    "the scent of mold and rot, each step on the creaky floorboards echoing with the whispers of long-forgotten secrets and sorrows. \n",
    "The grand hallways, now draped in cobwebs, held the eerie silence of a place abandoned by time. The townspeople, ever wary, spoke in \n",
    "hushed tones of ghosts and curses, of hidden treasures and the tragedies that befell those who dared to cross its threshold. Despite \n",
    "the fear it invoked, the mansion's allure was undeniable. It stood as a tantalizing mystery, an enigmatic puzzle waiting for the curious, \n",
    "the brave, or perhaps the foolhardy, to unlock its secrets. The mansion, a silent sentinel of history, beckoned with the promise of \n",
    "adventure, danger, and the unknown, its stories etched into every crack and crevice, waiting patiently to be told.\n",
    "\"\"\""
   ]
  },
  {
   "cell_type": "code",
   "execution_count": 10,
   "metadata": {},
   "outputs": [],
   "source": [
    "sentences = nltk.sent_tokenize(paragraph)\n",
    "lemmetizer = WordNetLemmatizer()"
   ]
  },
  {
   "cell_type": "code",
   "execution_count": 11,
   "metadata": {},
   "outputs": [
    {
     "data": {
      "text/plain": [
       "['\\nThe old mansion, cloaked in an ever-present mist at the edge of town, was a haunting relic of a bygone era.',\n",
       " 'Once the epitome of opulence and grandeur, it now lay in a state of desolate decay, its former glory all but forgotten.',\n",
       " 'The windows, once sparkling and clear, were shattered and dark, allowing only glimpses of the shadowy interior.',\n",
       " 'The doors, \\nonce grand and imposing, now hung ajar, creaking ominously with the slightest breeze.',\n",
       " 'The gardens, once a symbol of meticulous \\ncare and beauty, had transformed into a wild, untamed jungle of thorns, ivy, and overgrown hedges.',\n",
       " 'Inside, the air was heavy with \\nthe scent of mold and rot, each step on the creaky floorboards echoing with the whispers of long-forgotten secrets and sorrows.',\n",
       " 'The grand hallways, now draped in cobwebs, held the eerie silence of a place abandoned by time.',\n",
       " 'The townspeople, ever wary, spoke in \\nhushed tones of ghosts and curses, of hidden treasures and the tragedies that befell those who dared to cross its threshold.',\n",
       " \"Despite \\nthe fear it invoked, the mansion's allure was undeniable.\",\n",
       " 'It stood as a tantalizing mystery, an enigmatic puzzle waiting for the curious, \\nthe brave, or perhaps the foolhardy, to unlock its secrets.',\n",
       " 'The mansion, a silent sentinel of history, beckoned with the promise of \\nadventure, danger, and the unknown, its stories etched into every crack and crevice, waiting patiently to be told.']"
      ]
     },
     "execution_count": 11,
     "metadata": {},
     "output_type": "execute_result"
    }
   ],
   "source": [
    "sentences"
   ]
  },
  {
   "cell_type": "code",
   "execution_count": 13,
   "metadata": {},
   "outputs": [
    {
     "name": "stdout",
     "output_type": "stream",
     "text": [
      "The old mansion , cloaked ever-present mist edge town , haunting relic bygone era .\n",
      "Once epitome opulence grandeur , lay state desolate decay , former glory forgotten .\n",
      "The window , sparkling clear , shattered dark , allowing glimpse shadowy interior .\n",
      "The door , grand imposing , hung ajar , creaking ominously slightest breeze .\n",
      "The garden , symbol meticulous care beauty , transformed wild , untamed jungle thorn , ivy , overgrown hedge .\n",
      "Inside , air heavy scent mold rot , step creaky floorboard echoing whisper long-forgotten secret sorrow .\n",
      "The grand hallway , draped cobweb , held eerie silence place abandoned time .\n",
      "The townspeople , ever wary , spoke hushed tone ghost curse , hidden treasure tragedy befell dared cross threshold .\n",
      "Despite fear invoked , mansion 's allure undeniable .\n",
      "It stood tantalizing mystery , enigmatic puzzle waiting curious , brave , perhaps foolhardy , unlock secret .\n",
      "The mansion , silent sentinel history , beckoned promise adventure , danger , unknown , story etched every crack crevice , waiting patiently told .\n"
     ]
    }
   ],
   "source": [
    "for i in range(len(sentences)):\n",
    "    words = nltk.word_tokenize(sentences[i])\n",
    "    words = [lemmetizer.lemmatize(word) for word in words if word not in set(stopwords.words('english'))]\n",
    "    sentences[i] = ' '.join(words)\n",
    "    print(sentences[i])"
   ]
  },
  {
   "cell_type": "code",
   "execution_count": null,
   "metadata": {},
   "outputs": [],
   "source": []
  }
 ],
 "metadata": {
  "kernelspec": {
   "display_name": "venv",
   "language": "python",
   "name": "python3"
  },
  "language_info": {
   "codemirror_mode": {
    "name": "ipython",
    "version": 3
   },
   "file_extension": ".py",
   "mimetype": "text/x-python",
   "name": "python",
   "nbconvert_exporter": "python",
   "pygments_lexer": "ipython3",
   "version": "3.10.12"
  }
 },
 "nbformat": 4,
 "nbformat_minor": 2
}
