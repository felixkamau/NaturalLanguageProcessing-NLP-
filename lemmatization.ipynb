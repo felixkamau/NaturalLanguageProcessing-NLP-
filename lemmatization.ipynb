{
 "cells": [
  {
   "cell_type": "markdown",
   "metadata": {},
   "source": [
    "- Lemmatization:\n",
    "\n",
    "Lemmatization is a fundamental text pre-processing technique used in natural language processing (NLP) and machine learning. It is a linguistic process that involves reducing words to their base or root form, known as the lemma. This is done by analyzing the grammatical category of a word (noun, verb, adjective, etc.) and providing the base form accordingly.\n",
    "\n",
    "In lemmatization, unlike stemming, the resulting base word is referred to as a “lemma.” The main difference between lemmatization and stemming is that lemmatization takes into account the grammatical category of a word, whereas stemming applies simpler rules to remove prefixes and suffixes without considering the word’s grammatical category.\n",
    "\n",
    "For example, the lemma of “running” as a verb is “run,” while as a noun, it remains “running.” Lemmatization is crucial in NLP for tasks such as text analysis, sentiment analysis, and information retrieval. It helps in standardizing words, reducing dimensionality, and improving the accuracy of language processing models."
   ]
  },
  {
   "cell_type": "markdown",
   "metadata": {},
   "source": []
  }
 ],
 "metadata": {
  "language_info": {
   "name": "python"
  }
 },
 "nbformat": 4,
 "nbformat_minor": 2
}
