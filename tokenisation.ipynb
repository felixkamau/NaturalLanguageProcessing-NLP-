{
 "cells": [
  {
   "cell_type": "code",
   "execution_count": 2,
   "metadata": {},
   "outputs": [
    {
     "name": "stdout",
     "output_type": "stream",
     "text": [
      "showing info https://raw.githubusercontent.com/nltk/nltk_data/gh-pages/index.xml\n"
     ]
    },
    {
     "data": {
      "text/plain": [
       "True"
      ]
     },
     "execution_count": 2,
     "metadata": {},
     "output_type": "execute_result"
    }
   ],
   "source": [
    "import nltk\n",
    "# Then download every lib in nltk\n",
    "nltk.download()"
   ]
  },
  {
   "cell_type": "code",
   "execution_count": 3,
   "metadata": {},
   "outputs": [],
   "source": [
    "# Define some corpse basicaly a corpers  is text/paragraph/sentence\n",
    "paragraph = \"\"\"\n",
    "The old mansion stood at the edge of the town, shrouded in a perpetual mist that seemed to emanate from its very walls. \n",
    "Once a grand symbol of opulence and power, it now lay in ruins, its windows shattered and its doors hanging ajar. The gardens, \n",
    "once meticulously tended, had become a tangled wilderness of thorns and ivy. Inside, the air was thick with the scent of decay \n",
    "and the echoes of whispered secrets. Shadows danced along the corridors, and every creak of the floorboards seemed to tell the \n",
    "story of lives long past. The townspeople spoke of ghosts and curses, of treasures hidden and tragedies that befell those who \n",
    "dared to enter. And yet, despite the fear it inspired, the mansion remained a tantalizing mystery, a remnant of a bygone era waiting \n",
    "for the brave or the foolish to uncover its secrets.\n",
    "\"\"\""
   ]
  },
  {
   "cell_type": "markdown",
   "metadata": {},
   "source": [
    "- After taking each sentence  the processing happens on each and every word of this particular paragraph.\n",
    "\n",
    "- Word_tokenise helps tokenise each word in the paragraph.\n",
    "\n",
    "\n",
    "- In respect to nlp we must convert corpse  into words or sentence."
   ]
  },
  {
   "cell_type": "code",
   "execution_count": 10,
   "metadata": {},
   "outputs": [
    {
     "data": {
      "text/plain": [
       "7"
      ]
     },
     "execution_count": 10,
     "metadata": {},
     "output_type": "execute_result"
    }
   ],
   "source": [
    "# Tokenise  to sntences\n",
    "sentences = nltk.sent_tokenize(paragraph)\n",
    "sentences_len = len(sentences)\n",
    "sentences_len"
   ]
  },
  {
   "cell_type": "code",
   "execution_count": 5,
   "metadata": {},
   "outputs": [
    {
     "data": {
      "text/plain": [
       "['\\nThe old mansion stood at the edge of the town, shrouded in a perpetual mist that seemed to emanate from its very walls.',\n",
       " 'Once a grand symbol of opulence and power, it now lay in ruins, its windows shattered and its doors hanging ajar.',\n",
       " 'The gardens, \\nonce meticulously tended, had become a tangled wilderness of thorns and ivy.',\n",
       " 'Inside, the air was thick with the scent of decay \\nand the echoes of whispered secrets.',\n",
       " 'Shadows danced along the corridors, and every creak of the floorboards seemed to tell the \\nstory of lives long past.']"
      ]
     },
     "execution_count": 5,
     "metadata": {},
     "output_type": "execute_result"
    }
   ],
   "source": [
    "sentences[:5]"
   ]
  },
  {
   "cell_type": "code",
   "execution_count": 8,
   "metadata": {},
   "outputs": [
    {
     "data": {
      "text/plain": [
       "['The', 'old', 'mansion', 'stood', 'at']"
      ]
     },
     "execution_count": 8,
     "metadata": {},
     "output_type": "execute_result"
    }
   ],
   "source": [
    "#Tokensing Words\n",
    "words = nltk.word_tokenize(paragraph)\n",
    "words[:5]"
   ]
  },
  {
   "cell_type": "code",
   "execution_count": 11,
   "metadata": {},
   "outputs": [
    {
     "data": {
      "text/plain": [
       "161"
      ]
     },
     "execution_count": 11,
     "metadata": {},
     "output_type": "execute_result"
    }
   ],
   "source": [
    "word_len = len(words)\n",
    "word_len"
   ]
  },
  {
   "cell_type": "code",
   "execution_count": null,
   "metadata": {},
   "outputs": [],
   "source": []
  }
 ],
 "metadata": {
  "kernelspec": {
   "display_name": "venv",
   "language": "python",
   "name": "python3"
  },
  "language_info": {
   "codemirror_mode": {
    "name": "ipython",
    "version": 3
   },
   "file_extension": ".py",
   "mimetype": "text/x-python",
   "name": "python",
   "nbconvert_exporter": "python",
   "pygments_lexer": "ipython3",
   "version": "3.10.12"
  }
 },
 "nbformat": 4,
 "nbformat_minor": 2
}
